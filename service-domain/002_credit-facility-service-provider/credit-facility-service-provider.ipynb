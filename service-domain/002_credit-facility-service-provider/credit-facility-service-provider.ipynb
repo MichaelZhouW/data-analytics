{
 "cells": [
  {
   "cell_type": "markdown",
   "metadata": {
    "pycharm": {
     "name": "#%% md\n"
    }
   },
   "source": [
    "> # Report Goal\n",
    "\n",
    "The goal of this report is to analyze a dataset consisting of information from credit facility dataset (18769 records) and to comprehend which factors impact the Credit Card cardholder spending power and to predict the most recent month billable amount (B1) of a given individual . this project could be conducted as part of a customer analysis for the credit provider.\n",
    "\n",
    "For this project, a multivariable regression analysis will be used. The report will begin with an exploratory data analysis of the dataset, followed by data cleaning, visualisation and linear regression analysis. At the end, the regression model created will be deployed to simulate the testing dataset and predict the B1 of cardholders given their background information.\n"
   ]
  },
  {
   "cell_type": "markdown",
   "metadata": {
    "pycharm": {
     "name": "#%% md\n"
    }
   },
   "source": [
    "> # Project set-up"
   ]
  },
  {
   "cell_type": "markdown",
   "metadata": {
    "pycharm": {
     "name": "#%% md\n"
    }
   },
   "source": [
    "# 0. Import the necessary libraries"
   ]
  },
  {
   "cell_type": "code",
   "execution_count": 25,
   "outputs": [
    {
     "name": "stdout",
     "output_type": "stream",
     "text": [
      "Requirement already satisfied: PyYAML in /Users/michael.z/opt/anaconda3/envs/g/lib/python3.10/site-packages/PyYAML-6.0-py3.10-macosx-10.9-x86_64.egg (6.0)\r\n"
     ]
    }
   ],
   "source": [
    "!pip install PyYAML"
   ],
   "metadata": {
    "collapsed": false,
    "pycharm": {
     "name": "#%%\n"
    }
   }
  },
  {
   "cell_type": "code",
   "execution_count": 26,
   "metadata": {
    "pycharm": {
     "name": "#%%\n"
    }
   },
   "outputs": [
    {
     "name": "stdout",
     "output_type": "stream",
     "text": [
      "Requirement already satisfied: shap in /Users/michael.z/opt/anaconda3/envs/g/lib/python3.10/site-packages (0.41.0)\r\n",
      "Requirement already satisfied: scikit-learn in /Users/michael.z/opt/anaconda3/envs/g/lib/python3.10/site-packages (from shap) (1.1.3)\r\n",
      "Requirement already satisfied: scipy in /Users/michael.z/opt/anaconda3/envs/g/lib/python3.10/site-packages (from shap) (1.9.3)\r\n",
      "Requirement already satisfied: packaging>20.9 in /Users/michael.z/opt/anaconda3/envs/g/lib/python3.10/site-packages (from shap) (21.3)\r\n",
      "Requirement already satisfied: numba in /Users/michael.z/opt/anaconda3/envs/g/lib/python3.10/site-packages (from shap) (0.56.4)\r\n",
      "Requirement already satisfied: cloudpickle in /Users/michael.z/opt/anaconda3/envs/g/lib/python3.10/site-packages (from shap) (2.2.0)\r\n",
      "Requirement already satisfied: tqdm>4.25.0 in /Users/michael.z/opt/anaconda3/envs/g/lib/python3.10/site-packages (from shap) (4.64.1)\r\n",
      "Requirement already satisfied: numpy in /Users/michael.z/opt/anaconda3/envs/g/lib/python3.10/site-packages (from shap) (1.21.5)\r\n",
      "Requirement already satisfied: slicer==0.0.7 in /Users/michael.z/opt/anaconda3/envs/g/lib/python3.10/site-packages (from shap) (0.0.7)\r\n",
      "Requirement already satisfied: pandas in /Users/michael.z/opt/anaconda3/envs/g/lib/python3.10/site-packages (from shap) (1.4.4)\r\n",
      "Requirement already satisfied: pyparsing!=3.0.5,>=2.0.2 in /Users/michael.z/opt/anaconda3/envs/g/lib/python3.10/site-packages (from packaging>20.9->shap) (3.0.9)\r\n",
      "Requirement already satisfied: setuptools in /Users/michael.z/opt/anaconda3/envs/g/lib/python3.10/site-packages (from numba->shap) (65.5.0)\r\n",
      "Requirement already satisfied: llvmlite<0.40,>=0.39.0dev0 in /Users/michael.z/opt/anaconda3/envs/g/lib/python3.10/site-packages (from numba->shap) (0.39.1)\r\n",
      "Requirement already satisfied: python-dateutil>=2.8.1 in /Users/michael.z/opt/anaconda3/envs/g/lib/python3.10/site-packages (from pandas->shap) (2.8.2)\r\n",
      "Requirement already satisfied: pytz>=2020.1 in /Users/michael.z/opt/anaconda3/envs/g/lib/python3.10/site-packages (from pandas->shap) (2022.1)\r\n",
      "Requirement already satisfied: joblib>=1.0.0 in /Users/michael.z/opt/anaconda3/envs/g/lib/python3.10/site-packages (from scikit-learn->shap) (1.2.0)\r\n",
      "Requirement already satisfied: threadpoolctl>=2.0.0 in /Users/michael.z/opt/anaconda3/envs/g/lib/python3.10/site-packages (from scikit-learn->shap) (3.1.0)\r\n",
      "Requirement already satisfied: six>=1.5 in /Users/michael.z/opt/anaconda3/envs/g/lib/python3.10/site-packages (from python-dateutil>=2.8.1->pandas->shap) (1.16.0)\r\n"
     ]
    }
   ],
   "source": [
    "!pip install shap"
   ]
  },
  {
   "cell_type": "code",
   "execution_count": 27,
   "metadata": {
    "pycharm": {
     "name": "#%%\n"
    }
   },
   "outputs": [
    {
     "name": "stdout",
     "output_type": "stream",
     "text": [
      "Requirement already satisfied: yellowbrick in /Users/michael.z/opt/anaconda3/envs/g/lib/python3.10/site-packages (1.5)\r\n",
      "Requirement already satisfied: cycler>=0.10.0 in /Users/michael.z/opt/anaconda3/envs/g/lib/python3.10/site-packages (from yellowbrick) (0.11.0)\r\n",
      "Requirement already satisfied: scikit-learn>=1.0.0 in /Users/michael.z/opt/anaconda3/envs/g/lib/python3.10/site-packages (from yellowbrick) (1.1.3)\r\n",
      "Requirement already satisfied: scipy>=1.0.0 in /Users/michael.z/opt/anaconda3/envs/g/lib/python3.10/site-packages (from yellowbrick) (1.9.3)\r\n",
      "Requirement already satisfied: numpy>=1.16.0 in /Users/michael.z/opt/anaconda3/envs/g/lib/python3.10/site-packages (from yellowbrick) (1.21.5)\r\n",
      "Requirement already satisfied: matplotlib!=3.0.0,>=2.0.2 in /Users/michael.z/opt/anaconda3/envs/g/lib/python3.10/site-packages (from yellowbrick) (3.5.3)\r\n",
      "Requirement already satisfied: packaging>=20.0 in /Users/michael.z/opt/anaconda3/envs/g/lib/python3.10/site-packages (from matplotlib!=3.0.0,>=2.0.2->yellowbrick) (21.3)\r\n",
      "Requirement already satisfied: python-dateutil>=2.7 in /Users/michael.z/opt/anaconda3/envs/g/lib/python3.10/site-packages (from matplotlib!=3.0.0,>=2.0.2->yellowbrick) (2.8.2)\r\n",
      "Requirement already satisfied: pyparsing>=2.2.1 in /Users/michael.z/opt/anaconda3/envs/g/lib/python3.10/site-packages (from matplotlib!=3.0.0,>=2.0.2->yellowbrick) (3.0.9)\r\n",
      "Requirement already satisfied: kiwisolver>=1.0.1 in /Users/michael.z/opt/anaconda3/envs/g/lib/python3.10/site-packages (from matplotlib!=3.0.0,>=2.0.2->yellowbrick) (1.4.2)\r\n",
      "Requirement already satisfied: fonttools>=4.22.0 in /Users/michael.z/opt/anaconda3/envs/g/lib/python3.10/site-packages (from matplotlib!=3.0.0,>=2.0.2->yellowbrick) (4.25.0)\r\n",
      "Requirement already satisfied: pillow>=6.2.0 in /Users/michael.z/opt/anaconda3/envs/g/lib/python3.10/site-packages (from matplotlib!=3.0.0,>=2.0.2->yellowbrick) (9.2.0)\r\n",
      "Requirement already satisfied: joblib>=1.0.0 in /Users/michael.z/opt/anaconda3/envs/g/lib/python3.10/site-packages (from scikit-learn>=1.0.0->yellowbrick) (1.2.0)\r\n",
      "Requirement already satisfied: threadpoolctl>=2.0.0 in /Users/michael.z/opt/anaconda3/envs/g/lib/python3.10/site-packages (from scikit-learn>=1.0.0->yellowbrick) (3.1.0)\r\n",
      "Requirement already satisfied: six>=1.5 in /Users/michael.z/opt/anaconda3/envs/g/lib/python3.10/site-packages (from python-dateutil>=2.7->matplotlib!=3.0.0,>=2.0.2->yellowbrick) (1.16.0)\r\n"
     ]
    }
   ],
   "source": [
    "!pip install yellowbrick"
   ]
  },
  {
   "cell_type": "code",
   "execution_count": 28,
   "metadata": {
    "pycharm": {
     "name": "#%%\n"
    }
   },
   "outputs": [
    {
     "ename": "ImportError",
     "evalue": "cannot import name 'ABCIndexClass' from 'pandas.core.dtypes.generic' (/Users/michael.z/opt/anaconda3/envs/g/lib/python3.10/site-packages/pandas/core/dtypes/generic.py)",
     "output_type": "error",
     "traceback": [
      "\u001B[0;31m---------------------------------------------------------------------------\u001B[0m",
      "\u001B[0;31mImportError\u001B[0m                               Traceback (most recent call last)",
      "Cell \u001B[0;32mIn [28], line 20\u001B[0m\n\u001B[1;32m     18\u001B[0m \u001B[38;5;28;01mfrom\u001B[39;00m \u001B[38;5;21;01msklearn\u001B[39;00m\u001B[38;5;21;01m.\u001B[39;00m\u001B[38;5;21;01mneural_network\u001B[39;00m \u001B[38;5;28;01mimport\u001B[39;00m MLPRegressor\n\u001B[1;32m     19\u001B[0m \u001B[38;5;28;01mfrom\u001B[39;00m \u001B[38;5;21;01msklearn\u001B[39;00m\u001B[38;5;21;01m.\u001B[39;00m\u001B[38;5;21;01mmodel_selection\u001B[39;00m \u001B[38;5;28;01mimport\u001B[39;00m cross_val_score\n\u001B[0;32m---> 20\u001B[0m \u001B[38;5;28;01mfrom\u001B[39;00m \u001B[38;5;21;01mpandas_profiling\u001B[39;00m \u001B[38;5;28;01mimport\u001B[39;00m ProfileReport\n\u001B[1;32m     21\u001B[0m \u001B[38;5;28;01mfrom\u001B[39;00m \u001B[38;5;21;01mpathlib\u001B[39;00m \u001B[38;5;28;01mimport\u001B[39;00m Path\n\u001B[1;32m     22\u001B[0m \u001B[38;5;28;01mfrom\u001B[39;00m \u001B[38;5;21;01msklearn\u001B[39;00m\u001B[38;5;21;01m.\u001B[39;00m\u001B[38;5;21;01mmetrics\u001B[39;00m \u001B[38;5;28;01mimport\u001B[39;00m mean_squared_error\n",
      "File \u001B[0;32m~/opt/anaconda3/envs/g/lib/python3.10/site-packages/pandas_profiling/__init__.py:7\u001B[0m\n\u001B[1;32m      1\u001B[0m \u001B[38;5;124;03m\"\"\"Main module of pandas-profiling.\u001B[39;00m\n\u001B[1;32m      2\u001B[0m \n\u001B[1;32m      3\u001B[0m \u001B[38;5;124;03m.. include:: ../../README.md\u001B[39;00m\n\u001B[1;32m      4\u001B[0m \u001B[38;5;124;03m\"\"\"\u001B[39;00m\n\u001B[1;32m      6\u001B[0m \u001B[38;5;28;01mfrom\u001B[39;00m \u001B[38;5;21;01mpandas_profiling\u001B[39;00m\u001B[38;5;21;01m.\u001B[39;00m\u001B[38;5;21;01mconfig\u001B[39;00m \u001B[38;5;28;01mimport\u001B[39;00m Config, config\n\u001B[0;32m----> 7\u001B[0m \u001B[38;5;28;01mfrom\u001B[39;00m \u001B[38;5;21;01mpandas_profiling\u001B[39;00m\u001B[38;5;21;01m.\u001B[39;00m\u001B[38;5;21;01mcontroller\u001B[39;00m \u001B[38;5;28;01mimport\u001B[39;00m pandas_decorator\n\u001B[1;32m      8\u001B[0m \u001B[38;5;28;01mfrom\u001B[39;00m \u001B[38;5;21;01mpandas_profiling\u001B[39;00m\u001B[38;5;21;01m.\u001B[39;00m\u001B[38;5;21;01mprofile_report\u001B[39;00m \u001B[38;5;28;01mimport\u001B[39;00m ProfileReport\n\u001B[1;32m      9\u001B[0m \u001B[38;5;28;01mfrom\u001B[39;00m \u001B[38;5;21;01mpandas_profiling\u001B[39;00m\u001B[38;5;21;01m.\u001B[39;00m\u001B[38;5;21;01mversion\u001B[39;00m \u001B[38;5;28;01mimport\u001B[39;00m __version__\n",
      "File \u001B[0;32m~/opt/anaconda3/envs/g/lib/python3.10/site-packages/pandas_profiling/controller/pandas_decorator.py:4\u001B[0m\n\u001B[1;32m      1\u001B[0m \u001B[38;5;124;03m\"\"\"This file add the decorator on the DataFrame object.\"\"\"\u001B[39;00m\n\u001B[1;32m      2\u001B[0m \u001B[38;5;28;01mfrom\u001B[39;00m \u001B[38;5;21;01mpandas\u001B[39;00m \u001B[38;5;28;01mimport\u001B[39;00m DataFrame\n\u001B[0;32m----> 4\u001B[0m \u001B[38;5;28;01mfrom\u001B[39;00m \u001B[38;5;21;01mpandas_profiling\u001B[39;00m\u001B[38;5;21;01m.\u001B[39;00m\u001B[38;5;21;01m__init__\u001B[39;00m \u001B[38;5;28;01mimport\u001B[39;00m ProfileReport\n\u001B[1;32m      7\u001B[0m \u001B[38;5;28;01mdef\u001B[39;00m \u001B[38;5;21mprofile_report\u001B[39m(df, \u001B[38;5;241m*\u001B[39m\u001B[38;5;241m*\u001B[39mkwargs) \u001B[38;5;241m-\u001B[39m\u001B[38;5;241m>\u001B[39m ProfileReport:\n\u001B[1;32m      8\u001B[0m     \u001B[38;5;124;03m\"\"\"Profile a DataFrame.\u001B[39;00m\n\u001B[1;32m      9\u001B[0m \n\u001B[1;32m     10\u001B[0m \u001B[38;5;124;03m    Args:\u001B[39;00m\n\u001B[0;32m   (...)\u001B[0m\n\u001B[1;32m     15\u001B[0m \u001B[38;5;124;03m        A ProfileReport of the DataFrame.\u001B[39;00m\n\u001B[1;32m     16\u001B[0m \u001B[38;5;124;03m    \"\"\"\u001B[39;00m\n",
      "File \u001B[0;32m~/opt/anaconda3/envs/g/lib/python3.10/site-packages/pandas_profiling/__init__.py:8\u001B[0m\n\u001B[1;32m      6\u001B[0m \u001B[38;5;28;01mfrom\u001B[39;00m \u001B[38;5;21;01mpandas_profiling\u001B[39;00m\u001B[38;5;21;01m.\u001B[39;00m\u001B[38;5;21;01mconfig\u001B[39;00m \u001B[38;5;28;01mimport\u001B[39;00m Config, config\n\u001B[1;32m      7\u001B[0m \u001B[38;5;28;01mfrom\u001B[39;00m \u001B[38;5;21;01mpandas_profiling\u001B[39;00m\u001B[38;5;21;01m.\u001B[39;00m\u001B[38;5;21;01mcontroller\u001B[39;00m \u001B[38;5;28;01mimport\u001B[39;00m pandas_decorator\n\u001B[0;32m----> 8\u001B[0m \u001B[38;5;28;01mfrom\u001B[39;00m \u001B[38;5;21;01mpandas_profiling\u001B[39;00m\u001B[38;5;21;01m.\u001B[39;00m\u001B[38;5;21;01mprofile_report\u001B[39;00m \u001B[38;5;28;01mimport\u001B[39;00m ProfileReport\n\u001B[1;32m      9\u001B[0m \u001B[38;5;28;01mfrom\u001B[39;00m \u001B[38;5;21;01mpandas_profiling\u001B[39;00m\u001B[38;5;21;01m.\u001B[39;00m\u001B[38;5;21;01mversion\u001B[39;00m \u001B[38;5;28;01mimport\u001B[39;00m __version__\n\u001B[1;32m     11\u001B[0m clear_config \u001B[38;5;241m=\u001B[39m ProfileReport\u001B[38;5;241m.\u001B[39mclear_config\n",
      "File \u001B[0;32m~/opt/anaconda3/envs/g/lib/python3.10/site-packages/pandas_profiling/profile_report.py:11\u001B[0m\n\u001B[1;32m      8\u001B[0m \u001B[38;5;28;01mfrom\u001B[39;00m \u001B[38;5;21;01mtqdm\u001B[39;00m\u001B[38;5;21;01m.\u001B[39;00m\u001B[38;5;21;01mauto\u001B[39;00m \u001B[38;5;28;01mimport\u001B[39;00m tqdm\n\u001B[1;32m     10\u001B[0m \u001B[38;5;28;01mfrom\u001B[39;00m \u001B[38;5;21;01mpandas_profiling\u001B[39;00m\u001B[38;5;21;01m.\u001B[39;00m\u001B[38;5;21;01mconfig\u001B[39;00m \u001B[38;5;28;01mimport\u001B[39;00m config\n\u001B[0;32m---> 11\u001B[0m \u001B[38;5;28;01mfrom\u001B[39;00m \u001B[38;5;21;01mpandas_profiling\u001B[39;00m\u001B[38;5;21;01m.\u001B[39;00m\u001B[38;5;21;01mmodel\u001B[39;00m\u001B[38;5;21;01m.\u001B[39;00m\u001B[38;5;21;01mdescribe\u001B[39;00m \u001B[38;5;28;01mimport\u001B[39;00m describe \u001B[38;5;28;01mas\u001B[39;00m describe_df\n\u001B[1;32m     12\u001B[0m \u001B[38;5;28;01mfrom\u001B[39;00m \u001B[38;5;21;01mpandas_profiling\u001B[39;00m\u001B[38;5;21;01m.\u001B[39;00m\u001B[38;5;21;01mmodel\u001B[39;00m\u001B[38;5;21;01m.\u001B[39;00m\u001B[38;5;21;01mmessages\u001B[39;00m \u001B[38;5;28;01mimport\u001B[39;00m MessageType\n\u001B[1;32m     13\u001B[0m \u001B[38;5;28;01mfrom\u001B[39;00m \u001B[38;5;21;01mpandas_profiling\u001B[39;00m\u001B[38;5;21;01m.\u001B[39;00m\u001B[38;5;21;01mreport\u001B[39;00m \u001B[38;5;28;01mimport\u001B[39;00m get_report_structure\n",
      "File \u001B[0;32m~/opt/anaconda3/envs/g/lib/python3.10/site-packages/pandas_profiling/model/describe.py:13\u001B[0m\n\u001B[1;32m     11\u001B[0m \u001B[38;5;28;01mfrom\u001B[39;00m \u001B[38;5;21;01mpandas_profiling\u001B[39;00m\u001B[38;5;21;01m.\u001B[39;00m\u001B[38;5;21;01mmodel\u001B[39;00m\u001B[38;5;21;01m.\u001B[39;00m\u001B[38;5;21;01mcorrelations\u001B[39;00m \u001B[38;5;28;01mimport\u001B[39;00m calculate_correlation\n\u001B[1;32m     12\u001B[0m \u001B[38;5;28;01mfrom\u001B[39;00m \u001B[38;5;21;01mpandas_profiling\u001B[39;00m\u001B[38;5;21;01m.\u001B[39;00m\u001B[38;5;21;01mmodel\u001B[39;00m\u001B[38;5;21;01m.\u001B[39;00m\u001B[38;5;21;01msample\u001B[39;00m \u001B[38;5;28;01mimport\u001B[39;00m Sample, get_sample\n\u001B[0;32m---> 13\u001B[0m \u001B[38;5;28;01mfrom\u001B[39;00m \u001B[38;5;21;01mpandas_profiling\u001B[39;00m\u001B[38;5;21;01m.\u001B[39;00m\u001B[38;5;21;01mmodel\u001B[39;00m\u001B[38;5;21;01m.\u001B[39;00m\u001B[38;5;21;01msummary\u001B[39;00m \u001B[38;5;28;01mimport\u001B[39;00m (\n\u001B[1;32m     14\u001B[0m     get_duplicates,\n\u001B[1;32m     15\u001B[0m     get_messages,\n\u001B[1;32m     16\u001B[0m     get_missing_diagrams,\n\u001B[1;32m     17\u001B[0m     get_scatter_matrix,\n\u001B[1;32m     18\u001B[0m     get_series_descriptions,\n\u001B[1;32m     19\u001B[0m     get_table_stats,\n\u001B[1;32m     20\u001B[0m )\n\u001B[1;32m     21\u001B[0m \u001B[38;5;28;01mfrom\u001B[39;00m \u001B[38;5;21;01mpandas_profiling\u001B[39;00m\u001B[38;5;21;01m.\u001B[39;00m\u001B[38;5;21;01mversion\u001B[39;00m \u001B[38;5;28;01mimport\u001B[39;00m __version__\n\u001B[1;32m     24\u001B[0m \u001B[38;5;28;01mdef\u001B[39;00m \u001B[38;5;21mdescribe\u001B[39m(title: \u001B[38;5;28mstr\u001B[39m, df: pd\u001B[38;5;241m.\u001B[39mDataFrame, sample: Optional[\u001B[38;5;28mdict\u001B[39m] \u001B[38;5;241m=\u001B[39m \u001B[38;5;28;01mNone\u001B[39;00m) \u001B[38;5;241m-\u001B[39m\u001B[38;5;241m>\u001B[39m \u001B[38;5;28mdict\u001B[39m:\n",
      "File \u001B[0;32m~/opt/anaconda3/envs/g/lib/python3.10/site-packages/pandas_profiling/model/summary.py:14\u001B[0m\n\u001B[1;32m     12\u001B[0m \u001B[38;5;28;01mfrom\u001B[39;00m \u001B[38;5;21;01mpandas\u001B[39;00m\u001B[38;5;21;01m.\u001B[39;00m\u001B[38;5;21;01mcore\u001B[39;00m\u001B[38;5;21;01m.\u001B[39;00m\u001B[38;5;21;01marrays\u001B[39;00m\u001B[38;5;21;01m.\u001B[39;00m\u001B[38;5;21;01minteger\u001B[39;00m \u001B[38;5;28;01mimport\u001B[39;00m _IntegerDtype\n\u001B[1;32m     13\u001B[0m \u001B[38;5;28;01mfrom\u001B[39;00m \u001B[38;5;21;01mscipy\u001B[39;00m\u001B[38;5;21;01m.\u001B[39;00m\u001B[38;5;21;01mstats\u001B[39;00m\u001B[38;5;21;01m.\u001B[39;00m\u001B[38;5;21;01mstats\u001B[39;00m \u001B[38;5;28;01mimport\u001B[39;00m chisquare\n\u001B[0;32m---> 14\u001B[0m \u001B[38;5;28;01mfrom\u001B[39;00m \u001B[38;5;21;01mvisions\u001B[39;00m\u001B[38;5;21;01m.\u001B[39;00m\u001B[38;5;21;01mapplication\u001B[39;00m\u001B[38;5;21;01m.\u001B[39;00m\u001B[38;5;21;01msummaries\u001B[39;00m\u001B[38;5;21;01m.\u001B[39;00m\u001B[38;5;21;01mseries\u001B[39;00m \u001B[38;5;28;01mimport\u001B[39;00m (\n\u001B[1;32m     15\u001B[0m     file_summary,\n\u001B[1;32m     16\u001B[0m     image_summary,\n\u001B[1;32m     17\u001B[0m     path_summary,\n\u001B[1;32m     18\u001B[0m     url_summary,\n\u001B[1;32m     19\u001B[0m )\n\u001B[1;32m     20\u001B[0m \u001B[38;5;28;01mfrom\u001B[39;00m \u001B[38;5;21;01mvisions\u001B[39;00m\u001B[38;5;21;01m.\u001B[39;00m\u001B[38;5;21;01mapplication\u001B[39;00m\u001B[38;5;21;01m.\u001B[39;00m\u001B[38;5;21;01msummaries\u001B[39;00m\u001B[38;5;21;01m.\u001B[39;00m\u001B[38;5;21;01mseries\u001B[39;00m\u001B[38;5;21;01m.\u001B[39;00m\u001B[38;5;21;01mtext_summary\u001B[39;00m \u001B[38;5;28;01mimport\u001B[39;00m (\n\u001B[1;32m     21\u001B[0m     length_summary,\n\u001B[1;32m     22\u001B[0m     unicode_summary,\n\u001B[1;32m     23\u001B[0m )\n\u001B[1;32m     25\u001B[0m \u001B[38;5;28;01mfrom\u001B[39;00m \u001B[38;5;21;01mpandas_profiling\u001B[39;00m\u001B[38;5;21;01m.\u001B[39;00m\u001B[38;5;21;01mconfig\u001B[39;00m \u001B[38;5;28;01mimport\u001B[39;00m config \u001B[38;5;28;01mas\u001B[39;00m config\n",
      "File \u001B[0;32m~/opt/anaconda3/envs/g/lib/python3.10/site-packages/visions/__init__.py:3\u001B[0m\n\u001B[1;32m      1\u001B[0m \u001B[38;5;124;03m\"\"\"Core functionality\"\"\"\u001B[39;00m\n\u001B[1;32m      2\u001B[0m \u001B[38;5;28;01mfrom\u001B[39;00m \u001B[38;5;21;01mvisions\u001B[39;00m \u001B[38;5;28;01mimport\u001B[39;00m types, typesets, utils\n\u001B[0;32m----> 3\u001B[0m \u001B[38;5;28;01mfrom\u001B[39;00m \u001B[38;5;21;01mvisions\u001B[39;00m\u001B[38;5;21;01m.\u001B[39;00m\u001B[38;5;21;01mdtypes\u001B[39;00m\u001B[38;5;21;01m.\u001B[39;00m\u001B[38;5;21;01mboolean\u001B[39;00m \u001B[38;5;28;01mimport\u001B[39;00m BoolDtype\n\u001B[1;32m      4\u001B[0m \u001B[38;5;28;01mfrom\u001B[39;00m \u001B[38;5;21;01mvisions\u001B[39;00m\u001B[38;5;21;01m.\u001B[39;00m\u001B[38;5;21;01mfunctional\u001B[39;00m \u001B[38;5;28;01mimport\u001B[39;00m (\n\u001B[1;32m      5\u001B[0m     cast_to_detected,\n\u001B[1;32m      6\u001B[0m     cast_to_inferred,\n\u001B[1;32m      7\u001B[0m     detect_type,\n\u001B[1;32m      8\u001B[0m     infer_type,\n\u001B[1;32m      9\u001B[0m )\n\u001B[1;32m     10\u001B[0m \u001B[38;5;28;01mfrom\u001B[39;00m \u001B[38;5;21;01mvisions\u001B[39;00m\u001B[38;5;21;01m.\u001B[39;00m\u001B[38;5;21;01mtypes\u001B[39;00m \u001B[38;5;28;01mimport\u001B[39;00m \u001B[38;5;241m*\u001B[39m\n",
      "File \u001B[0;32m~/opt/anaconda3/envs/g/lib/python3.10/site-packages/visions/dtypes/boolean.py:23\u001B[0m\n\u001B[1;32m     12\u001B[0m \u001B[38;5;28;01mfrom\u001B[39;00m \u001B[38;5;21;01mpandas\u001B[39;00m\u001B[38;5;21;01m.\u001B[39;00m\u001B[38;5;21;01mcore\u001B[39;00m\u001B[38;5;21;01m.\u001B[39;00m\u001B[38;5;21;01mdtypes\u001B[39;00m\u001B[38;5;21;01m.\u001B[39;00m\u001B[38;5;21;01mcommon\u001B[39;00m \u001B[38;5;28;01mimport\u001B[39;00m (\n\u001B[1;32m     13\u001B[0m     is_bool_dtype,\n\u001B[1;32m     14\u001B[0m     is_float,\n\u001B[0;32m   (...)\u001B[0m\n\u001B[1;32m     20\u001B[0m     is_scalar,\n\u001B[1;32m     21\u001B[0m )\n\u001B[1;32m     22\u001B[0m \u001B[38;5;28;01mfrom\u001B[39;00m \u001B[38;5;21;01mpandas\u001B[39;00m\u001B[38;5;21;01m.\u001B[39;00m\u001B[38;5;21;01mcore\u001B[39;00m\u001B[38;5;21;01m.\u001B[39;00m\u001B[38;5;21;01mdtypes\u001B[39;00m\u001B[38;5;21;01m.\u001B[39;00m\u001B[38;5;21;01mdtypes\u001B[39;00m \u001B[38;5;28;01mimport\u001B[39;00m register_extension_dtype\n\u001B[0;32m---> 23\u001B[0m \u001B[38;5;28;01mfrom\u001B[39;00m \u001B[38;5;21;01mpandas\u001B[39;00m\u001B[38;5;21;01m.\u001B[39;00m\u001B[38;5;21;01mcore\u001B[39;00m\u001B[38;5;21;01m.\u001B[39;00m\u001B[38;5;21;01mdtypes\u001B[39;00m\u001B[38;5;21;01m.\u001B[39;00m\u001B[38;5;21;01mgeneric\u001B[39;00m \u001B[38;5;28;01mimport\u001B[39;00m ABCIndexClass, ABCSeries\n\u001B[1;32m     24\u001B[0m \u001B[38;5;28;01mfrom\u001B[39;00m \u001B[38;5;21;01mpandas\u001B[39;00m\u001B[38;5;21;01m.\u001B[39;00m\u001B[38;5;21;01mcore\u001B[39;00m\u001B[38;5;21;01m.\u001B[39;00m\u001B[38;5;21;01mdtypes\u001B[39;00m\u001B[38;5;21;01m.\u001B[39;00m\u001B[38;5;21;01mmissing\u001B[39;00m \u001B[38;5;28;01mimport\u001B[39;00m isna, notna\n\u001B[1;32m     25\u001B[0m \u001B[38;5;28;01mfrom\u001B[39;00m \u001B[38;5;21;01mpandas\u001B[39;00m\u001B[38;5;21;01m.\u001B[39;00m\u001B[38;5;21;01mcore\u001B[39;00m\u001B[38;5;21;01m.\u001B[39;00m\u001B[38;5;21;01mtools\u001B[39;00m\u001B[38;5;21;01m.\u001B[39;00m\u001B[38;5;21;01mnumeric\u001B[39;00m \u001B[38;5;28;01mimport\u001B[39;00m to_numeric\n",
      "\u001B[0;31mImportError\u001B[0m: cannot import name 'ABCIndexClass' from 'pandas.core.dtypes.generic' (/Users/michael.z/opt/anaconda3/envs/g/lib/python3.10/site-packages/pandas/core/dtypes/generic.py)"
     ]
    }
   ],
   "source": [
    "import numpy as np\n",
    "import pandas as pd\n",
    "import missingno as msno\n",
    "import matplotlib.pyplot as plt\n",
    "import seaborn as sns\n",
    "from scipy.stats import probplot\n",
    "from sklearn.model_selection import train_test_split, RandomizedSearchCV\n",
    "from sklearn.base import BaseEstimator, TransformerMixin\n",
    "from sklearn.pipeline import Pipeline\n",
    "from sklearn.preprocessing import MinMaxScaler, OneHotEncoder\n",
    "from sklearn.linear_model import LinearRegression, Ridge, Lasso, ElasticNet, BayesianRidge, SGDRegressor\n",
    "from sklearn.neighbors import KNeighborsRegressor\n",
    "from sklearn.tree import DecisionTreeRegressor\n",
    "from sklearn.ensemble import RandomForestRegressor, GradientBoostingRegressor, AdaBoostRegressor, BaggingRegressor, ExtraTreesRegressor\n",
    "from sklearn.kernel_ridge import KernelRidge\n",
    "from sklearn.svm import SVR\n",
    "from sklearn.gaussian_process import GaussianProcessRegressor\n",
    "from sklearn.neural_network import MLPRegressor\n",
    "from sklearn.model_selection import cross_val_score\n",
    "from pandas_profiling import ProfileReport\n",
    "from pathlib import Path\n",
    "from sklearn.metrics import mean_squared_error\n",
    "from scipy import stats\n",
    "from yellowbrick.model_selection import FeatureImportances\n",
    "import shap\n",
    "import joblib\n",
    "\n",
    "import statsmodels.api as sm\n",
    "import statsmodels.formula.api as smf\n",
    "%matplotlib inline\n",
    "\n",
    "col_list = ['#005f9a', '#00CDCD', '#f1bdbf']\n",
    "sns.set_palette(col_list)"
   ]
  },
  {
   "cell_type": "code",
   "execution_count": null,
   "metadata": {
    "pycharm": {
     "name": "#%%\n"
    }
   },
   "outputs": [],
   "source": [
    "df_original = pd.read_csv(\"./ECA_data.csv\", index_col=0)\n",
    "df_original.head()"
   ]
  },
  {
   "cell_type": "code",
   "execution_count": null,
   "metadata": {
    "pycharm": {
     "name": "#%%\n"
    }
   },
   "outputs": [],
   "source": [
    "df_original_copy = df_original.copy()"
   ]
  },
  {
   "cell_type": "code",
   "execution_count": null,
   "metadata": {
    "pycharm": {
     "name": "#%%\n"
    }
   },
   "outputs": [],
   "source": [
    "df_original_copy.info()"
   ]
  },
  {
   "cell_type": "markdown",
   "metadata": {
    "pycharm": {
     "name": "#%% md\n"
    }
   },
   "source": [
    "> # Question 1\n",
    "> ###### List the categorical and numeric variables"
   ]
  },
  {
   "cell_type": "markdown",
   "metadata": {
    "pycharm": {
     "name": "#%% md\n"
    }
   },
   "source": [
    "# 1. List the categorical and numeric variables"
   ]
  },
  {
   "cell_type": "code",
   "execution_count": null,
   "metadata": {
    "pycharm": {
     "name": "#%%\n"
    }
   },
   "outputs": [],
   "source": [
    "# List the categorical variables\n",
    "df_categorical = df_original_copy [[\"RATING\",\"GENDER\",\"EDUCATION\",\"MARITAL\"]]\n",
    "print(list(df_categorical.columns))"
   ]
  },
  {
   "cell_type": "code",
   "execution_count": null,
   "metadata": {
    "pycharm": {
     "name": "#%%\n"
    }
   },
   "outputs": [],
   "source": [
    "# List the numberic variables\n",
    "df_numberic = df_original_copy.drop(columns=[\"RATING\",\"GENDER\",\"EDUCATION\",\"MARITAL\"])\n",
    "print(list(df_numberic.columns))"
   ]
  },
  {
   "cell_type": "markdown",
   "metadata": {
    "pycharm": {
     "name": "#%% md\n"
    }
   },
   "source": [
    "> # Question 2\n",
    "> ###### Data pre-processing\n"
   ]
  },
  {
   "cell_type": "markdown",
   "metadata": {
    "pycharm": {
     "name": "#%% md\n"
    }
   },
   "source": [
    "RATING:\n",
    "- Filling numeric values with descriptive value [ rating (0: Good, 1: Bad) ]\n",
    "\n",
    "GENDER\n",
    "- Filling numeric values with descriptive value [ gender (0: Male, 1: Female) ]\n",
    "\n",
    "EDUCATION:\n",
    "- Missing value(Replace with the mode)\n",
    "- Filling numeric values with descriptive value [ Customer highest education attained (0: Others, 1: Postgraduate, 2: Tertiary, 3: High School) ]\n",
    "\n",
    "MARITAL:\n",
    "- Missing value(Replace with the mode)\n",
    "- Filling numberic values with descriptive value [ marital status (0: Others, 1: Single, 2: Married) ]\n",
    "\n",
    "LIMIT\n",
    "- Outliers handler\n",
    "\n",
    "BALANCE\n",
    "- Outliers handler\n",
    "\n",
    "INCOME\n",
    "- Outliers handler\n",
    "\n",
    "AGE\n",
    "- Outliers handler"
   ]
  },
  {
   "cell_type": "markdown",
   "metadata": {
    "pycharm": {
     "name": "#%% md\n"
    }
   },
   "source": [
    "## 2.1 Handling Missing Values"
   ]
  },
  {
   "cell_type": "code",
   "execution_count": null,
   "metadata": {
    "pycharm": {
     "name": "#%%\n"
    }
   },
   "outputs": [],
   "source": [
    "# Identify the missing values\n",
    "df_original_copy.isnull().sum()"
   ]
  },
  {
   "cell_type": "code",
   "execution_count": null,
   "metadata": {
    "pycharm": {
     "name": "#%%\n"
    }
   },
   "outputs": [],
   "source": [
    "# Missing values imputer\n",
    "class MissingValueImputer(BaseEstimator , TransformerMixin):\n",
    "    def __init__(self, mode_imputed_ft = ['RATING', 'GENDER', 'EDUCATION', 'MARITAL'], median_imputed_ft = ['LIMIT', 'BALANCE', 'INCOME', 'AGE']):\n",
    "        self.mode_imputed_ft = mode_imputed_ft\n",
    "        self.median_imputed_ft = median_imputed_ft\n",
    "    def fit(self,df):\n",
    "        return self\n",
    "    def transform(self,df):\n",
    "        if (set(self.mode_imputed_ft + self.median_imputed_ft).issubset(df.columns)):\n",
    "            # impute missing values with mode\n",
    "            for ft in self.mode_imputed_ft:\n",
    "                the_mode = df[ft].mode()[0]\n",
    "                df[ft] = df[ft].fillna(the_mode)\n",
    "            # impute missing values with median\n",
    "            for ft in self.median_imputed_ft:\n",
    "                the_median = df[ft].median()\n",
    "                df[ft] = df[ft].fillna(the_median)\n",
    "            return df\n",
    "        else:\n",
    "            print(\"One or more features are not in the dataframe\")\n",
    "            return df\n",
    "\n",
    "\n",
    "def pipeline_MissingValueImputer(df):\n",
    "    pipeline = Pipeline([\n",
    "        ('missing value imputer', MissingValueImputer()),\n",
    "    ])\n",
    "    df_pipe_prep = pipeline.fit_transform(df)\n",
    "    return df_pipe_prep"
   ]
  },
  {
   "cell_type": "code",
   "execution_count": null,
   "metadata": {
    "pycharm": {
     "name": "#%%\n"
    }
   },
   "outputs": [],
   "source": [
    "pd.options.mode.chained_assignment = None\n",
    "df_original_copy_prep = pipeline_MissingValueImputer(df_original_copy)"
   ]
  },
  {
   "cell_type": "markdown",
   "metadata": {
    "pycharm": {
     "name": "#%% md\n"
    }
   },
   "source": [
    "**Comment**\n",
    "- missing values in 'EDUCATION', 'MARITAL' are replaced with mode, which makes the dataset more reasonable and improve the prediction accuracy."
   ]
  },
  {
   "cell_type": "markdown",
   "metadata": {
    "pycharm": {
     "name": "#%% md\n"
    }
   },
   "source": [
    "## 2.2 Decode by filling numberic values with descriptive value"
   ]
  },
  {
   "cell_type": "code",
   "execution_count": null,
   "metadata": {
    "pycharm": {
     "name": "#%%\n"
    }
   },
   "outputs": [],
   "source": [
    "# decode the selected columns by filling numeric values with descriptive value\n",
    "df_original_copy_prep = df_original_copy_prep.astype({\"EDUCATION\":'int', \"MARITAL\":'int'}) # converting 'EDUCATION' and 'MARITAL' from float to int\n",
    "name_dict = {\"GENDER\" : {0:\"Male\", 1:\"Female\"},\n",
    "             \"RATING\" : {0:\"Good\", 1:\"Bad\"},\n",
    "             \"EDUCATION\" : {0: \"Others\", 1: \"Postgraduate\", 2: \"Tertiary\", 3: \"High School\"},\n",
    "             \"MARITAL\" : {0: \"Others\", 1:\"Single\", 2:\"Married\"}}\n",
    "\n",
    "for column in name_dict.keys():\n",
    "    df_original_copy_prep[column] = df_original_copy_prep[column].apply(lambda x : name_dict[column][x])\n",
    "\n",
    "df_original_copy_prep.head()"
   ]
  },
  {
   "cell_type": "markdown",
   "metadata": {
    "pycharm": {
     "name": "#%% md\n"
    }
   },
   "source": [
    "**Comment**\n",
    "- Based on the case background, decode the selected columns by filling numeric values with descriptive value\n",
    "- The handled data will be used for further data visualisation"
   ]
  },
  {
   "cell_type": "markdown",
   "metadata": {
    "pycharm": {
     "name": "#%% md\n"
    }
   },
   "source": [
    "## 2.3 Set categorical variables"
   ]
  },
  {
   "cell_type": "code",
   "execution_count": null,
   "metadata": {
    "pycharm": {
     "name": "#%%\n"
    }
   },
   "outputs": [],
   "source": [
    "df_original_copy_prep.RATING = df_original_copy_prep.RATING.astype('category')\n",
    "df_original_copy_prep.GENDER = df_original_copy_prep.GENDER.astype('category')\n",
    "df_original_copy_prep.EDUCATION = df_original_copy_prep.EDUCATION.astype('category')\n",
    "df_original_copy_prep.MARITAL = df_original_copy_prep.MARITAL.astype('category')"
   ]
  },
  {
   "cell_type": "code",
   "execution_count": null,
   "metadata": {
    "pycharm": {
     "name": "#%%\n"
    }
   },
   "outputs": [],
   "source": [
    "df_original_copy_prep.describe(include=['category'])"
   ]
  },
  {
   "cell_type": "code",
   "execution_count": null,
   "metadata": {
    "pycharm": {
     "name": "#%%\n"
    }
   },
   "outputs": [],
   "source": [
    "df_original_copy_prep.dtypes"
   ]
  },
  {
   "cell_type": "markdown",
   "metadata": {
    "pycharm": {
     "name": "#%% md\n"
    }
   },
   "source": [
    "**Comment**\n",
    "- 'RATING', 'GENDER', 'EDUCATION', 'MARITAL' are set as \"categorical\" variables for further data visualisation on categoryical studys, e.g. correlation"
   ]
  },
  {
   "cell_type": "markdown",
   "metadata": {
    "pycharm": {
     "name": "#%% md\n"
    }
   },
   "source": [
    "## 2.4 Detect and Handle Outliers"
   ]
  },
  {
   "cell_type": "markdown",
   "metadata": {
    "pycharm": {
     "name": "#%% md\n"
    }
   },
   "source": [
    "#### 2.4.1 Outlier Detection for Numeric Variables"
   ]
  },
  {
   "cell_type": "code",
   "execution_count": null,
   "metadata": {
    "pycharm": {
     "name": "#%%\n"
    }
   },
   "outputs": [],
   "source": [
    "fig=plt.subplots(figsize=(10, 10))\n",
    "\n",
    "for i, j in enumerate(['LIMIT', 'BALANCE', 'INCOME','AGE','B1','B2','B3','B4','B5','R1','R2','R3','R4','R5']):\n",
    "    plt.subplot(6, 2, i+1)\n",
    "    plt.subplots_adjust(hspace = 1.0)\n",
    "    sns.boxplot(df_original_copy_prep[j])\n",
    "    plt.tight_layout()"
   ]
  },
  {
   "cell_type": "markdown",
   "metadata": {
    "pycharm": {
     "name": "#%% md\n"
    }
   },
   "source": [
    "#### 2.4.2 Outliers imputer"
   ]
  },
  {
   "cell_type": "code",
   "execution_count": null,
   "metadata": {
    "pycharm": {
     "name": "#%%\n"
    }
   },
   "outputs": [],
   "source": [
    "# 2.4.1 Outliers imputer\n",
    "class OutlierImputer(BaseEstimator, TransformerMixin):\n",
    "    def __init__(self,feat_with_outliers = ['LIMIT', 'BALANCE', 'INCOME', 'AGE','B1','B2','B3','B4','B5','R1','R2','R3','R4','R5']):\n",
    "        self.feat_with_outliers = feat_with_outliers\n",
    "    def fit(self,df):\n",
    "        return self\n",
    "    def transform(self,df):\n",
    "        if (set(self.feat_with_outliers).issubset(df.columns)):\n",
    "            # 25% quantile\n",
    "            Q1 = df[self.feat_with_outliers].quantile(.25)\n",
    "            # 75% quantile\n",
    "            Q3 = df[self.feat_with_outliers].quantile(.75)\n",
    "            IQR = Q3 - Q1\n",
    "            # keep the data within 3 IQR\n",
    "            df = df[~((df[self.feat_with_outliers] < (Q1 - 1.5 * IQR)) | (df[self.feat_with_outliers] > (Q3 + 1.5 * IQR))).any(axis=1)]\n",
    "            return df\n",
    "        else:\n",
    "            print(\"One or more features are not in the dataframe\")\n",
    "            return df\n",
    "\n",
    "def pipeline_outlierImputer(df):\n",
    "    pipeline = Pipeline([\n",
    "        ('outlier remover', OutlierImputer()),\n",
    "    ])\n",
    "    df_pipe_prep = pipeline.fit_transform(df)\n",
    "    return df_pipe_prep"
   ]
  },
  {
   "cell_type": "code",
   "execution_count": null,
   "metadata": {
    "pycharm": {
     "name": "#%%\n"
    }
   },
   "outputs": [],
   "source": [
    "pd.options.mode.chained_assignment = None\n",
    "df_original_copy_prep = pipeline_outlierImputer(df_original_copy_prep)"
   ]
  },
  {
   "cell_type": "markdown",
   "metadata": {
    "pycharm": {
     "name": "#%% md\n"
    }
   },
   "source": [
    "**Comment**\n",
    "- Previously, outliers are detected in 'LIMIT', 'BALANCE', 'INCOME', 'AGE'.\n",
    "- Handled the outliers for further data clean steps."
   ]
  },
  {
   "cell_type": "markdown",
   "metadata": {
    "pycharm": {
     "name": "#%% md\n"
    }
   },
   "source": [
    "> # Question 3\n",
    "> ###### Insights of the data with visualization"
   ]
  },
  {
   "cell_type": "markdown",
   "metadata": {
    "pycharm": {
     "name": "#%% md\n"
    }
   },
   "source": []
  },
  {
   "cell_type": "markdown",
   "metadata": {
    "pycharm": {
     "name": "#%% md\n"
    }
   },
   "source": [
    "## 3.1 Studying the target of inference"
   ]
  },
  {
   "cell_type": "markdown",
   "metadata": {
    "pycharm": {
     "name": "#%% md\n"
    }
   },
   "source": [
    "Fristly, let's scan the target of inference ( B1 ) in isolation."
   ]
  },
  {
   "cell_type": "code",
   "execution_count": null,
   "metadata": {
    "pycharm": {
     "name": "#%%\n"
    }
   },
   "outputs": [],
   "source": [
    "sns.distplot(df_original_copy_prep.B1)"
   ]
  },
  {
   "cell_type": "markdown",
   "metadata": {
    "pycharm": {
     "name": "#%% md\n"
    }
   },
   "source": [
    "It can be noticed that a large portion of the sample consists of Zero billable amount. Therefore, We have quite a number of inacitve credit card users.\n",
    "\n",
    "This is an important distinction because, if the average billable amount in the most recent month for a given individual is zero, we conclude that the person does not make use of that credit card. As a credit provider, we may be interested in knowing the average payable amount across our active users (for instance, to identify those at risk of default), and the zero B1 may skew our results.\n",
    "\n",
    "We can create an additional data frame which only contains the observations with a positive billable amount ( B1 )."
   ]
  },
  {
   "cell_type": "code",
   "execution_count": null,
   "metadata": {
    "pycharm": {
     "name": "#%%\n"
    }
   },
   "outputs": [],
   "source": [
    "active_df = df_original_copy_prep.loc[df_original_copy_prep.B1>0,].copy()\n",
    "active_df.B1.describe()"
   ]
  },
  {
   "cell_type": "markdown",
   "metadata": {
    "pycharm": {
     "name": "#%% md\n"
    }
   },
   "source": [
    "## 3.2 examine the categorical variables and their relationship to the most recent billable amount B1."
   ]
  },
  {
   "cell_type": "code",
   "execution_count": null,
   "metadata": {
    "pycharm": {
     "name": "#%%\n"
    }
   },
   "outputs": [],
   "source": [
    "f, axes = plt.subplots(2, 2, figsize=(15, 6))\n",
    "f.subplots_adjust(hspace=.3, wspace=.25)\n",
    "df_original_copy_prep.groupby('RATING').B1.plot(kind='kde', ax=axes[0][0], legend=True, title='B1 by RATING')\n",
    "df_original_copy_prep.groupby('GENDER').B1.plot(kind='kde', ax=axes[0][1], legend=True, title='B1 by GENDER')\n",
    "df_original_copy_prep.groupby('EDUCATION').B1.plot(kind='kde', ax=axes[1][0], legend=True, title='B1 by Married')\n",
    "df_original_copy_prep.groupby('MARITAL').B1.plot(kind='kde', ax=axes[1][1], legend=True, title='B1 by MARITAL')"
   ]
  },
  {
   "cell_type": "markdown",
   "metadata": {
    "pycharm": {
     "name": "#%% md\n"
    }
   },
   "source": [
    "No indicator appears to influence the distribution of B1 significantly. To verify, the same relationships can be analyzed on the active-only dataset of the population."
   ]
  },
  {
   "cell_type": "code",
   "execution_count": null,
   "metadata": {
    "pycharm": {
     "name": "#%%\n"
    }
   },
   "outputs": [],
   "source": [
    "f, axes = plt.subplots(2, 2, figsize=(15, 6))\n",
    "f.subplots_adjust(hspace=.3, wspace=.25)\n",
    "active_df.groupby('RATING').B1.plot(kind='kde', ax=axes[0][0], legend=True, title='B1 by RATING')\n",
    "active_df.groupby('GENDER').B1.plot(kind='kde', ax=axes[0][1], legend=True, title='B1 by GENDER')\n",
    "active_df.groupby('EDUCATION').B1.plot(kind='kde', ax=axes[1][0], legend=True, title='B1 by Married')\n",
    "active_df.groupby('MARITAL').B1.plot(kind='kde', ax=axes[1][1], legend=True, title='B1 by MARITAL')"
   ]
  },
  {
   "cell_type": "markdown",
   "metadata": {
    "pycharm": {
     "name": "#%% md\n"
    }
   },
   "source": [
    "Although the variables RATING, GENDER, EDUCATION and MARITAL do not appear associated with B1 when observed in isolation, their interaction with one another might make them useful to this study. This will be investigated at a later point in the analysis."
   ]
  },
  {
   "cell_type": "markdown",
   "metadata": {
    "pycharm": {
     "name": "#%% md\n"
    }
   },
   "source": [
    "## 3.3 exlpore the income relationship with the most recent billable amount B1."
   ]
  },
  {
   "cell_type": "code",
   "execution_count": null,
   "metadata": {
    "pycharm": {
     "name": "#%%\n"
    }
   },
   "outputs": [],
   "source": [
    "sns.regplot('B1', 'INCOME',\n",
    "            data = df_original_copy_prep,\n",
    "            ci=None,\n",
    "            order=2,\n",
    "            line_kws={'color':'black'})"
   ]
  },
  {
   "cell_type": "markdown",
   "metadata": {
    "pycharm": {
     "name": "#%% md\n"
    }
   },
   "source": [
    "As anticipated, at lower levels of Income, increases in personal Income cause a decrease in B1, which can be interpreted as people requiring less financing as they make use of personal finances instead of credit debt.\n",
    "\n",
    "On the other side, at higher levels of income, B1 increases, meaning that those customers are in higher need of loans, potentially due to increased investment activities and a greater risk tolerance."
   ]
  },
  {
   "cell_type": "markdown",
   "metadata": {
    "pycharm": {
     "name": "#%% md\n"
    }
   },
   "source": [
    "## 3.4 Bivariate Analysis"
   ]
  },
  {
   "cell_type": "code",
   "execution_count": null,
   "metadata": {
    "pycharm": {
     "name": "#%%\n"
    }
   },
   "outputs": [],
   "source": [
    "df_original_copy_prep = df_original_copy_prep.reset_index()"
   ]
  },
  {
   "cell_type": "code",
   "execution_count": null,
   "metadata": {
    "pycharm": {
     "name": "#%%\n"
    }
   },
   "outputs": [],
   "source": [
    "df_original_copy_prep.head()"
   ]
  },
  {
   "cell_type": "markdown",
   "metadata": {
    "pycharm": {
     "name": "#%% md\n"
    }
   },
   "source": [
    "#### 3.5.1 Scatter plots"
   ]
  },
  {
   "cell_type": "code",
   "execution_count": null,
   "metadata": {
    "pycharm": {
     "name": "#%%\n"
    }
   },
   "outputs": [],
   "source": [
    "sns.pairplot(df_original_copy_prep.drop(['ID','RATING','GENDER','EDUCATION','MARITAL'],axis=1),corner=True)\n",
    "plt.show()"
   ]
  },
  {
   "cell_type": "markdown",
   "source": [
    "## 3.5 Scatter plots"
   ],
   "metadata": {
    "collapsed": false,
    "pycharm": {
     "name": "#%% md\n"
    }
   }
  },
  {
   "cell_type": "markdown",
   "metadata": {
    "pycharm": {
     "name": "#%% md\n"
    }
   },
   "source": [
    "##### 3.5.1. INCOME vs LIMIT"
   ]
  },
  {
   "cell_type": "code",
   "execution_count": null,
   "metadata": {
    "pycharm": {
     "name": "#%%\n"
    }
   },
   "outputs": [],
   "source": [
    "sns.regplot(x='INCOME',y='LIMIT',data=df_original_copy_prep,line_kws={'color':'red'},scatter_kws={'alpha':0.3})\n",
    "plt.show()"
   ]
  },
  {
   "cell_type": "markdown",
   "metadata": {
    "pycharm": {
     "name": "#%% md\n"
    }
   },
   "source": [
    "##### 3.5.2 BALANCE vs B1"
   ]
  },
  {
   "cell_type": "code",
   "execution_count": null,
   "metadata": {
    "pycharm": {
     "name": "#%%\n"
    }
   },
   "outputs": [],
   "source": [
    "sns.regplot(x='BALANCE',y='B1',data=df_original_copy_prep,line_kws={'color':'red'},scatter_kws={'alpha':0.3})\n",
    "plt.show()"
   ]
  },
  {
   "cell_type": "markdown",
   "metadata": {
    "pycharm": {
     "name": "#%% md\n"
    }
   },
   "source": [
    "##### 3.5.3 R1 vs B1"
   ]
  },
  {
   "cell_type": "code",
   "execution_count": null,
   "outputs": [],
   "source": [],
   "metadata": {
    "collapsed": false,
    "pycharm": {
     "name": "#%%\n"
    }
   }
  },
  {
   "cell_type": "code",
   "execution_count": null,
   "metadata": {
    "pycharm": {
     "name": "#%%\n"
    }
   },
   "outputs": [],
   "source": [
    "sns.regplot(x='R1',y='B1',data=df_original_copy_prep,line_kws={'color':'red'},scatter_kws={'alpha':0.3})\n",
    "plt.show()"
   ]
  },
  {
   "cell_type": "markdown",
   "source": [
    "Interpretation:\n",
    "- Limit is highly correlated with income\n",
    "- Balance is highly correlated with billable amount - B(n)\n",
    "- previous repayment amount R(n) is correlated with billable amount - B(n)"
   ],
   "metadata": {
    "collapsed": false,
    "pycharm": {
     "name": "#%% md\n"
    }
   }
  },
  {
   "cell_type": "markdown",
   "metadata": {
    "pycharm": {
     "name": "#%% md\n"
    }
   },
   "source": [
    "> # Question 4\n",
    "> ###### linear regression modelling to predict the variable, B1"
   ]
  },
  {
   "cell_type": "markdown",
   "metadata": {
    "pycharm": {
     "name": "#%% md\n"
    }
   },
   "source": [
    "## 4.1 Data Preprocessing"
   ]
  },
  {
   "cell_type": "markdown",
   "metadata": {
    "pycharm": {
     "name": "#%% md\n"
    }
   },
   "source": [
    "### 4.1.1 Feature drop"
   ]
  },
  {
   "cell_type": "code",
   "execution_count": null,
   "metadata": {
    "pycharm": {
     "name": "#%%\n"
    }
   },
   "outputs": [],
   "source": [
    "df_original_copy_prep.head()"
   ]
  },
  {
   "cell_type": "code",
   "execution_count": null,
   "metadata": {
    "pycharm": {
     "name": "#%%\n"
    }
   },
   "outputs": [],
   "source": [
    "df = df_original_copy_prep.drop('ID', axis=1)\n",
    "df.head()"
   ]
  },
  {
   "cell_type": "markdown",
   "metadata": {
    "pycharm": {
     "name": "#%% md\n"
    }
   },
   "source": [
    "### 4.1.2 Splitting the data and Scaling"
   ]
  },
  {
   "cell_type": "markdown",
   "metadata": {
    "pycharm": {
     "name": "#%% md\n"
    }
   },
   "source": [
    "After examining the predictors and their relationship with B1, regression models can be fit using those predictors. Given the choice of 17 predictors, the initial model could cover all of them. Yet, due to potential collinearity issues, 'S1', 'B1','R1' will be eliminated.\n",
    "\n",
    "The Ordinary Least Square algorithm is used to create the linear regression model."
   ]
  },
  {
   "cell_type": "code",
   "execution_count": null,
   "metadata": {
    "pycharm": {
     "name": "#%%\n"
    }
   },
   "outputs": [],
   "source": [
    "# Since cnt = casual + register, casual and register cannot be counted as predictors to prevent data leakage\n",
    "X = df.drop(['S2','S3','S4', 'S5','B1','B2','B3','B4','B5','R2','R3','R4','R5'], axis=1)\n",
    "y = df[['B1']]\n",
    "\n",
    "from sklearn.model_selection import train_test_split\n",
    "X_train, X_test, y_train, y_test = train_test_split(X, y, test_size=0.3, random_state=10)"
   ]
  },
  {
   "cell_type": "code",
   "execution_count": null,
   "metadata": {
    "pycharm": {
     "name": "#%%\n"
    }
   },
   "outputs": [],
   "source": [
    "df_train = X_train.join(y_train)\n",
    "df_train.head()"
   ]
  },
  {
   "cell_type": "code",
   "execution_count": null,
   "metadata": {
    "pycharm": {
     "name": "#%%\n"
    },
    "scrolled": false
   },
   "outputs": [],
   "source": [
    "lm0 = smf.ols('B1 ~ LIMIT + BALANCE + INCOME + RATING + GENDER + EDUCATION + MARITAL + AGE + R1 + S1', data = df_train).fit()\n",
    "lm0.summary()"
   ]
  },
  {
   "cell_type": "markdown",
   "source": [
    "The model has a certain degree of fit for the Active customers dataset. This points to the hypothesis that perhaps the non-active customers are driven by some reason other than the ones present in our variables. Since they rarely make use of their credit card, it is difficult to draw conclusions. Perhaps they, in fact, have credit card debt, yet we do not have the relevant data, potentially their credit card is provided by a different company. An alternative explanation could be that the card owners maintain a zero-balance card in order to decrease their credit utilization and boost their credit rating, assuming they also own a positive balance credit card elsewhere.\n",
    "\n",
    "It could exclude the variables which yield a high p-value from the model. Still, these variables could have an interaction with other variables and might still be significant.\n",
    "\n",
    "Let's continue by fitting a model with only the variables that proved significant."
   ],
   "metadata": {
    "collapsed": false,
    "pycharm": {
     "name": "#%% md\n"
    }
   }
  },
  {
   "cell_type": "code",
   "execution_count": null,
   "outputs": [],
   "source": [
    "lm1 = smf.ols('B1 ~ BALANCE + EDUCATION + R1 + S1', data = df_train).fit()\n",
    "lm1.summary()"
   ],
   "metadata": {
    "collapsed": false,
    "pycharm": {
     "name": "#%%\n"
    }
   }
  },
  {
   "cell_type": "markdown",
   "source": [
    "We choose the variables with small P-Values, but the R-squared has, in fact, remain the same level .\n",
    "\n",
    "The potential relationships among these 4 variables will be summarised in section 5"
   ],
   "metadata": {
    "collapsed": false,
    "pycharm": {
     "name": "#%% md\n"
    }
   }
  },
  {
   "cell_type": "markdown",
   "metadata": {
    "pycharm": {
     "name": "#%% md\n"
    }
   },
   "source": [
    "> ##"
   ]
  },
  {
   "cell_type": "markdown",
   "metadata": {
    "pycharm": {
     "name": "#%% md\n"
    }
   },
   "source": [
    "## 4.2 Making Predictions"
   ]
  },
  {
   "cell_type": "markdown",
   "source": [
    "Now, the model - lm1 can be used in order to predict the most recent customer billable amount (B1) of future customers given their background information. For this purpose, a dataset has been generated."
   ],
   "metadata": {
    "collapsed": false,
    "pycharm": {
     "name": "#%% md\n"
    }
   }
  },
  {
   "cell_type": "code",
   "execution_count": null,
   "metadata": {
    "pycharm": {
     "name": "#%%\n"
    }
   },
   "outputs": [],
   "source": [
    "df_test = X_test.join(y_test)"
   ]
  },
  {
   "cell_type": "code",
   "execution_count": null,
   "metadata": {
    "pycharm": {
     "name": "#%%\n"
    }
   },
   "outputs": [],
   "source": [
    "df_test['B1']= lm1.predict(df_test)\n",
    "df_test.describe ()"
   ]
  },
  {
   "cell_type": "markdown",
   "metadata": {
    "pycharm": {
     "name": "#%% md\n"
    }
   },
   "source": [
    "> # Question 5\n",
    "> ###### linear regression equation and explain key insights"
   ]
  },
  {
   "cell_type": "markdown",
   "source": [
    "## 5.1 linear regression equation"
   ],
   "metadata": {
    "collapsed": false,
    "pycharm": {
     "name": "#%% md\n"
    }
   }
  },
  {
   "cell_type": "code",
   "execution_count": null,
   "outputs": [],
   "source": [
    "# State the linear regression equation\n",
    "print(lm1.params)"
   ],
   "metadata": {
    "collapsed": false,
    "pycharm": {
     "name": "#%%\n"
    }
   }
  },
  {
   "cell_type": "code",
   "execution_count": null,
   "outputs": [],
   "source": [],
   "metadata": {
    "collapsed": false,
    "pycharm": {
     "name": "#%%\n"
    }
   }
  },
  {
   "cell_type": "markdown",
   "source": [
    "## 5.2 key insights"
   ],
   "metadata": {
    "collapsed": false,
    "pycharm": {
     "name": "#%% md\n"
    }
   }
  },
  {
   "cell_type": "markdown",
   "source": [
    "We exlpored the customer profiles - Spending Power. Since we are exploring credit related metrics. It's worth summarizing the customer file in terms of spending power."
   ],
   "metadata": {
    "collapsed": false,
    "pycharm": {
     "name": "#%% md\n"
    }
   }
  },
  {
   "cell_type": "markdown",
   "source": [
    "#### 5.2.1 Spending Power - Income and Balance\n",
    "  We examined the customer spending power (B1) and Income for martial groups. Since we are interested in how spending behaves."
   ],
   "metadata": {
    "collapsed": false,
    "pycharm": {
     "name": "#%% md\n"
    }
   }
  },
  {
   "cell_type": "code",
   "execution_count": null,
   "outputs": [],
   "source": [
    "sns.lmplot(x='INCOME',\n",
    "           y='BALANCE',\n",
    "           data=df_original_copy_prep,\n",
    "           line_kws={'color':'black'},\n",
    "           lowess=True,\n",
    "           col='MARITAL')"
   ],
   "metadata": {
    "collapsed": false,
    "pycharm": {
     "name": "#%%\n"
    }
   }
  },
  {
   "cell_type": "markdown",
   "source": [
    "An interesting observation is that Income was positively related to billable amount B1 initially, but negatively realtated to B1 as income increase. This could be explained that people with higher income may have more comprehensive financial knowledge and expending plan. They normally carry more assets rather than increase their expenses. This effect appear more significant for marriged groups."
   ],
   "metadata": {
    "collapsed": false,
    "pycharm": {
     "name": "#%% md\n"
    }
   }
  },
  {
   "cell_type": "markdown",
   "source": [
    "#### 5.2.2 Spending Power - exlpore the potential relationships among other variables"
   ],
   "metadata": {
    "collapsed": false,
    "pycharm": {
     "name": "#%% md\n"
    }
   }
  },
  {
   "cell_type": "code",
   "execution_count": null,
   "outputs": [],
   "source": [
    "f, axes = plt.subplots(2, 2, figsize=(12, 10))\n",
    "f.subplots_adjust(hspace=.5, wspace=.25)\n",
    "df_original_copy_prep.groupby('RATING').LIMIT.plot(kind='kde', ax=axes[0][0], title='LIMIT by RATING')\n",
    "df_original_copy_prep.plot(kind='scatter', x='AGE' , y='INCOME' , ax=axes[0][1], title='INCOME and AGE')\n",
    "df_original_copy_prep.groupby('EDUCATION').AGE.plot(kind='kde', ax=axes[1][0], legend=True, title='AGE by EDUCATION')\n",
    "df_original_copy_prep.groupby('GENDER').LIMIT.plot(kind='kde', ax=axes[1][1], legend=True, title='LIMIT by GENDER')"
   ],
   "metadata": {
    "collapsed": false,
    "pycharm": {
     "name": "#%%\n"
    }
   }
  },
  {
   "cell_type": "markdown",
   "source": [
    "We notice that the income does not have a positive realtionship with age, wich means older people does not have to be our target customers.\n",
    "\n",
    "Surprisingly, in this dataset, the Income does not Increase with Age, and the Age of higer education level compared to lower education level does not differ significantly, except for \"Teritiary' level. This observation could make us to concern about the data quality or to seek further attributes of this population to conduct additional data analysis."
   ],
   "metadata": {
    "collapsed": false,
    "pycharm": {
     "name": "#%% md\n"
    }
   }
  },
  {
   "cell_type": "markdown",
   "source": [
    "#### 3.5.1 Correlation analysis"
   ],
   "metadata": {
    "collapsed": false,
    "pycharm": {
     "name": "#%% md\n"
    }
   }
  },
  {
   "cell_type": "code",
   "execution_count": null,
   "outputs": [],
   "source": [
    "df_original_copy_prep_corr = df_original_copy_prep.drop(['ID','RATING','GENDER','EDUCATION','MARITAL'],axis=1).corr()\n",
    "# Get the lower triangle of the correlation matrix\n",
    "# Generate a mask for the upper triangle\n",
    "mask = np.zeros_like(df_original_copy_prep_corr, dtype='bool')\n",
    "mask[np.triu_indices_from(mask)] = True\n",
    "# Set up the matplotlib figure\n",
    "fig, ax = plt.subplots(figsize=(18,10))\n",
    "# seaborn heatmap\n",
    "sns.heatmap(df_original_copy_prep_corr, annot=True, cmap='flare',mask=mask, linewidths=.5)\n",
    "# plot the heatmap\n",
    "plt.show()"
   ],
   "metadata": {
    "collapsed": false,
    "pycharm": {
     "name": "#%%\n"
    }
   }
  },
  {
   "cell_type": "markdown",
   "source": [
    "Interpretation:\n",
    "- Limit is highly correlated with income\n",
    "- Balance is highly correlated with billable amount - B(n)\n",
    "- previous repayment amount R(n) is correlated with billable amount - B(n)"
   ],
   "metadata": {
    "collapsed": false,
    "pycharm": {
     "name": "#%% md\n"
    }
   }
  },
  {
   "cell_type": "code",
   "execution_count": null,
   "outputs": [],
   "source": [],
   "metadata": {
    "collapsed": false,
    "pycharm": {
     "name": "#%%\n"
    }
   }
  }
 ],
 "metadata": {
  "kernelspec": {
   "display_name": "Python 3 (ipykernel)",
   "language": "python",
   "name": "python3"
  },
  "language_info": {
   "codemirror_mode": {
    "name": "ipython",
    "version": 3
   },
   "file_extension": ".py",
   "mimetype": "text/x-python",
   "name": "python",
   "nbconvert_exporter": "python",
   "pygments_lexer": "ipython3",
   "version": "3.10.4"
  }
 },
 "nbformat": 4,
 "nbformat_minor": 1
}